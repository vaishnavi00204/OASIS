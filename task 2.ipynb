{
 "cells": [
  {
   "cell_type": "code",
   "execution_count": 1,
   "id": "8f528979",
   "metadata": {},
   "outputs": [],
   "source": [
    "def calculate_bmi(height, weight):\n",
    "    BMI = weight / (height * height)\n",
    "    return BMI"
   ]
  },
  {
   "cell_type": "code",
   "execution_count": 2,
   "id": "eb6b7e28",
   "metadata": {},
   "outputs": [],
   "source": [
    "def interpret_bmi(BMI):\n",
    "    if BMI > 0:\n",
    "        if BMI <= 16:\n",
    "            return \"You are very underweight\"\n",
    "        elif BMI <= 18.5:\n",
    "            return \"You are underweight\"\n",
    "        elif BMI <= 25:\n",
    "            return \"You are normal\"\n",
    "        elif BMI <= 30:\n",
    "            return \"You are overweight\"\n",
    "        else:\n",
    "            return \"You are very overweight\"\n",
    "    else:\n",
    "        return \"Enter valid details\"\n"
   ]
  },
  {
   "cell_type": "code",
   "execution_count": 3,
   "id": "455dfd85",
   "metadata": {},
   "outputs": [
    {
     "name": "stdout",
     "output_type": "stream",
     "text": [
      "Enter your height in meters: 1.70688\n",
      "Enter your weight in Kg: 55\n",
      "BMI Calculated is:  18.878031661959014\n",
      "You are normal\n"
     ]
    }
   ],
   "source": [
    "def main():\n",
    "    height = float(input(\"Enter your height in meters: \"))\n",
    "    weight = float(input(\"Enter your weight in Kg: \"))\n",
    "    \n",
    "    BMI = calculate_bmi(height, weight)\n",
    "    print(\"BMI Calculated is: \", BMI)\n",
    "    \n",
    "    interpretation = interpret_bmi(BMI)\n",
    "    print(interpretation)\n",
    "\n",
    "if __name__ == \"__main__\":\n",
    "    main()"
   ]
  },
  {
   "cell_type": "code",
   "execution_count": null,
   "id": "00bace3d",
   "metadata": {},
   "outputs": [],
   "source": []
  }
 ],
 "metadata": {
  "kernelspec": {
   "display_name": "Python 3 (ipykernel)",
   "language": "python",
   "name": "python3"
  },
  "language_info": {
   "codemirror_mode": {
    "name": "ipython",
    "version": 3
   },
   "file_extension": ".py",
   "mimetype": "text/x-python",
   "name": "python",
   "nbconvert_exporter": "python",
   "pygments_lexer": "ipython3",
   "version": "3.11.5"
  }
 },
 "nbformat": 4,
 "nbformat_minor": 5
}
