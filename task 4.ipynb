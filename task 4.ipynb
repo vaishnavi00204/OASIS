{
 "cells": [
  {
   "cell_type": "code",
   "execution_count": 1,
   "id": "1834e9cf",
   "metadata": {},
   "outputs": [],
   "source": [
    "import requests\n",
    "\n",
    "def get_weather(api_key, location):\n",
    "    base_url = \"https://api.openweathermap.org/data/2.5/weather\"\n",
    "    params = {\n",
    "        \"q\": location,\n",
    "        \"appid\": api_key,\n",
    "        \"units\": \"metric\"\n",
    "    }\n",
    "\n",
    "    try:\n",
    "        response = requests.get(base_url, params=params)\n",
    "        data = response.json()\n",
    "\n",
    "        if data[\"cod\"] == 200:\n",
    "            # Extract weather data\n",
    "            temperature = data[\"main\"][\"temp\"]\n",
    "            humidity = data[\"main\"][\"humidity\"]\n",
    "            weather_condition = data[\"weather\"][0][\"description\"]\n",
    "\n",
    "            # Print weather information\n",
    "            print(f\"Weather in {location}:\")\n",
    "            print(f\"Temperature: {temperature}°C\")\n",
    "            print(f\"Humidity: {humidity}%\")\n",
    "            print(f\"Conditions: {weather_condition}\")\n",
    "        else:\n",
    "            print(f\"Error: {data['message']}\")\n",
    "\n",
    "    except requests.exceptions.RequestException as e:\n",
    "        print(f\"Failed to connect to the weather service: {e}\")\n",
    "    except KeyError as e:\n",
    "        print(f\"Failed to retrieve weather data: {e}\")\n",
    "\n"
   ]
  },
  {
   "cell_type": "code",
   "execution_count": 2,
   "id": "1362ed66",
   "metadata": {},
   "outputs": [
    {
     "name": "stdout",
     "output_type": "stream",
     "text": [
      "Enter a city or ZIP code (or type 'exit' to quit): shamshabad\n",
      "Weather in shamshabad:\n",
      "Temperature: 26.06°C\n",
      "Humidity: 61%\n",
      "Conditions: light intensity drizzle\n",
      "Enter a city or ZIP code (or type 'exit' to quit): 506167\n",
      "Weather in 506167:\n",
      "Temperature: 26.36°C\n",
      "Humidity: 56%\n",
      "Conditions: overcast clouds\n",
      "Enter a city or ZIP code (or type 'exit' to quit): exit\n"
     ]
    }
   ],
   "source": [
    "if __name__ == \"__main__\":\n",
    "    api_key = \"c3b3100687e438922607c3e1fe453208\"\n",
    "\n",
    "    while True:\n",
    "        location = input(\"Enter a city or ZIP code (or type 'exit' to quit): \")\n",
    "        \n",
    "        if location.lower() == 'exit':\n",
    "            break\n",
    "        \n",
    "        get_weather(api_key, location)\n"
   ]
  },
  {
   "cell_type": "code",
   "execution_count": null,
   "id": "8806a356",
   "metadata": {},
   "outputs": [],
   "source": []
  }
 ],
 "metadata": {
  "kernelspec": {
   "display_name": "Python 3 (ipykernel)",
   "language": "python",
   "name": "python3"
  },
  "language_info": {
   "codemirror_mode": {
    "name": "ipython",
    "version": 3
   },
   "file_extension": ".py",
   "mimetype": "text/x-python",
   "name": "python",
   "nbconvert_exporter": "python",
   "pygments_lexer": "ipython3",
   "version": "3.11.5"
  }
 },
 "nbformat": 4,
 "nbformat_minor": 5
}
