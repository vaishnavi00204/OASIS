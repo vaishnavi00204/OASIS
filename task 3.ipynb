{
 "cells": [
  {
   "cell_type": "code",
   "execution_count": 1,
   "id": "79edcc92",
   "metadata": {},
   "outputs": [
    {
     "name": "stdout",
     "output_type": "stream",
     "text": [
      "A randomly generated password is: Bn^edTc#\n"
     ]
    }
   ],
   "source": [
    "import random\n",
    "\n",
    "def generate_password(n):\n",
    "    characters = \"abcdefghijklmnopqrstuvwxyzABCDEFGHIJKLMNOPQRSTUVWXYZ123456789!@#$%^&*()\"\n",
    "    password = \"\"\n",
    "\n",
    "    for _ in range(n):\n",
    "        password += random.choice(characters)\n",
    "\n",
    "    return password\n",
    "\n",
    "if __name__ == \"__main__\":\n",
    "    n = 8\n",
    "    password = generate_password(n)\n",
    "    print(\"A randomly generated password is:\", password)\n"
   ]
  },
  {
   "cell_type": "code",
   "execution_count": null,
   "id": "cc590388",
   "metadata": {},
   "outputs": [],
   "source": []
  }
 ],
 "metadata": {
  "kernelspec": {
   "display_name": "Python 3 (ipykernel)",
   "language": "python",
   "name": "python3"
  },
  "language_info": {
   "codemirror_mode": {
    "name": "ipython",
    "version": 3
   },
   "file_extension": ".py",
   "mimetype": "text/x-python",
   "name": "python",
   "nbconvert_exporter": "python",
   "pygments_lexer": "ipython3",
   "version": "3.11.5"
  }
 },
 "nbformat": 4,
 "nbformat_minor": 5
}
